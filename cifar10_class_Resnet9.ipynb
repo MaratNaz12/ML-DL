{
  "nbformat": 4,
  "nbformat_minor": 0,
  "metadata": {
    "colab": {
      "provenance": [],
      "collapsed_sections": [
        "keea4ULVbtWo",
        "5f7mNK9ocHjP",
        "K3hMdk2lpwIU",
        "npgRT8KytbHf",
        "KHhj08JoC_2R",
        "pyaEPad8XbAA"
      ],
      "authorship_tag": "ABX9TyPkZK4mgo4cey/4EKgiTAvU",
      "include_colab_link": true
    },
    "kernelspec": {
      "name": "python3",
      "display_name": "Python 3"
    },
    "language_info": {
      "name": "python"
    },
    "accelerator": "GPU",
    "gpuClass": "standard"
  },
  "cells": [
    {
      "cell_type": "markdown",
      "metadata": {
        "id": "view-in-github",
        "colab_type": "text"
      },
      "source": [
        "<a href=\"https://colab.research.google.com/github/MaratNaz12/ML-DL/blob/main/cifar10_class_Resnet9.ipynb\" target=\"_parent\"><img src=\"https://colab.research.google.com/assets/colab-badge.svg\" alt=\"Open In Colab\"/></a>"
      ]
    },
    {
      "cell_type": "markdown",
      "source": [
        "### **Import section**"
      ],
      "metadata": {
        "id": "keea4ULVbtWo"
      }
    },
    {
      "cell_type": "code",
      "execution_count": 2,
      "metadata": {
        "id": "hr2zMSZutisV"
      },
      "outputs": [],
      "source": [
        "import os\n",
        "import torch\n",
        "import torchvision\n",
        "import tarfile\n",
        "import torch.nn as nn\n",
        "import numpy as np\n",
        "import torch.nn.functional as F\n",
        "from torchvision.datasets.utils import download_url\n",
        "from torchvision.datasets import ImageFolder\n",
        "from torch.utils.data import DataLoader\n",
        "import torchvision.transforms as tt\n",
        "from torch.utils.data import random_split\n",
        "from torchvision.utils import make_grid\n",
        "\n",
        "import matplotlib\n",
        "import matplotlib.pyplot as plt\n",
        "%matplotlib inline\n",
        "matplotlib.rcParams['figure.facecolor'] = '#ffffff'"
      ]
    },
    {
      "cell_type": "markdown",
      "source": [
        "### **Dara preapring**"
      ],
      "metadata": {
        "id": "5f7mNK9ocHjP"
      }
    },
    {
      "cell_type": "markdown",
      "source": [
        "Downloading data"
      ],
      "metadata": {
        "id": "B0SnTaFEQq0z"
      }
    },
    {
      "cell_type": "code",
      "source": [
        "dataset_url = \"https://s3.amazonaws.com/fast-ai-imageclas/cifar10.tgz\"\n",
        "download_url(dataset_url, '.')\n",
        "\n",
        "with tarfile.open('./cifar10.tgz', 'r:gz') as tar:\n",
        "    tar.extractall(path='./data')\n",
        "data_dir = './data/cifar10'"
      ],
      "metadata": {
        "id": "IJS7hDrmQp7a"
      },
      "execution_count": null,
      "outputs": []
    },
    {
      "cell_type": "markdown",
      "source": [
        "Trsnaforming and splitting into test/train"
      ],
      "metadata": {
        "id": "NSkBhpsLR25u"
      }
    },
    {
      "cell_type": "code",
      "source": [
        "#mean and standard deviation of cifar10 dataset\n",
        "stats = ((0.4914, 0.4822, 0.4465), (0.2023, 0.1994, 0.2010))\n",
        "\n",
        "#tranform model from images to tensor, a bit of data augmentation, normalization\n",
        "train_transform= tt.Compose([tt.RandomCrop(32, padding = 4, padding_mode = 'reflect'),\n",
        "                             tt.RandomHorizontalFlip(),\n",
        "                             tt.ToTensor(),\n",
        "                             tt.Normalize(*stats, inplace = True)])\n",
        "\n",
        "valid_transform = tt.Compose([tt.ToTensor(),tt.Normalize(*stats,inplace = True)])\n",
        "\n",
        "\n",
        "#splitting data into training/validation/testing datasets\n",
        "\n",
        "train_dataset= ImageFolder(data_dir+'/train', train_transform) \n",
        "'''+ ImageFolder(data_dir+'/train', valid_transform)'''\n",
        "test_dataset = ImageFolder(data_dir+'/test',  valid_transform) \n",
        "\n",
        "valid_size = 5000\n",
        "train_dataset, valid_dataset = random_split(train_dataset, [len(train_dataset) - valid_size, valid_size])\n",
        "\n",
        "batch_size = 400\n",
        "train_dataset = DataLoader(train_dataset, batch_size, shuffle=True, num_workers=2, pin_memory=True)\n",
        "valid_dataset = DataLoader(valid_dataset, batch_size * 2, num_workers=2, pin_memory=True)\n",
        "test_dataset = DataLoader(test_dataset,batch_size,num_workers = 2, pin_memory = True )"
      ],
      "metadata": {
        "id": "bwcsqLEfcNq1"
      },
      "execution_count": 7,
      "outputs": []
    },
    {
      "cell_type": "markdown",
      "source": [
        "### **GPU activation**"
      ],
      "metadata": {
        "id": "K3hMdk2lpwIU"
      }
    },
    {
      "cell_type": "code",
      "source": [
        "def get_default_device():\n",
        "    \"\"\"Pick GPU if available, else CPU\"\"\"\n",
        "    if torch.cuda.is_available():\n",
        "        return torch.device('cuda')\n",
        "    else:\n",
        "        return torch.device('cpu')\n",
        "    \n",
        "def to_device(data, device):\n",
        "    \"\"\"Move tensor(s) to chosen device\"\"\"\n",
        "    if isinstance(data, (list,tuple)):\n",
        "        return [to_device(x, device) for x in data]\n",
        "    return data.to(device, non_blocking=True)\n",
        "\n",
        "class DeviceDataLoader():\n",
        "    \"\"\"Wrap a dataloader to move data to a device\"\"\"\n",
        "    def __init__(self, dl, device):\n",
        "        self.dl = dl\n",
        "        self.device = device\n",
        "        \n",
        "    def __iter__(self):\n",
        "        \"\"\"Yield a batch of data after moving it to device\"\"\"\n",
        "        for b in self.dl: \n",
        "            yield to_device(b, self.device)\n",
        "\n",
        "    def __len__(self):\n",
        "        \"\"\"Number of batches\"\"\"\n",
        "        return len(self.dl)\n",
        "        \n",
        "device = get_default_device()\n",
        "train_dataset = DeviceDataLoader(train_dataset, device)\n",
        "valid_dataset= DeviceDataLoader(valid_dataset, device)\n"
      ],
      "metadata": {
        "id": "HncsX8bUndIU"
      },
      "execution_count": 15,
      "outputs": []
    },
    {
      "cell_type": "markdown",
      "source": [
        "### **NN model**"
      ],
      "metadata": {
        "id": "npgRT8KytbHf"
      }
    },
    {
      "cell_type": "markdown",
      "source": [
        "Metircs"
      ],
      "metadata": {
        "id": "KnlSDsNUAiTv"
      }
    },
    {
      "cell_type": "code",
      "source": [
        "#metrics\n",
        "def accuracy(preds, labels):\n",
        "  _, preds = torch.max(preds, dim=1)\n",
        "  return torch.tensor(torch.sum(preds == labels).item() / len(preds))"
      ],
      "metadata": {
        "id": "S_FkmSANAj_u"
      },
      "execution_count": 16,
      "outputs": []
    },
    {
      "cell_type": "markdown",
      "source": [
        "Model base"
      ],
      "metadata": {
        "id": "3T_O3hKUAmEF"
      }
    },
    {
      "cell_type": "code",
      "source": [
        "class ImageClassificationBase(nn.Module):\n",
        "\n",
        "  #train loss on batch\n",
        "  def training_step(self,batch):\n",
        "    images,labels = batch\n",
        "    preds = self(images)\n",
        "    loss = F.cross_entropy(preds, labels)\n",
        "    return loss\n",
        "  #validation loss and accuracy on batch\n",
        "  def validation_step(self,batch):\n",
        "    images, labels = batch\n",
        "    preds = self(images)\n",
        "    loss = F.cross_entropy(preds,labels)\n",
        "    acc = accuracy(preds,labels)\n",
        "    return {'val_loss': loss.detach(), 'val_acc': acc}\n",
        "\n",
        "  #mean validation loss and accuracy on validation dataset\n",
        "  def validation_epoch_end(self,outputs):\n",
        "    epoch_loss = torch.tensor([x['val_loss'] for x in outputs]).mean()\n",
        "    epoch_acc =  torch.tensor([x['val_acc'] for x in outputs]).mean()\n",
        "    return {'val_loss' :epoch_loss,'val_acc' :epoch_acc}\n",
        "    \n",
        "  #printing res of epoch\n",
        "  def epoch_end(self, epoch, result):\n",
        "        print(\"Epoch [{}],  train_loss: {:.4f}, val_loss: {:.4f}, val_acc: {:.4f}\".format(\n",
        "            epoch, result['train_loss'], result['val_loss'], result['val_acc']))"
      ],
      "metadata": {
        "id": "DEKC0NXWtbj3"
      },
      "execution_count": 23,
      "outputs": []
    },
    {
      "cell_type": "markdown",
      "source": [
        "Covolution layer constructor\n",
        "( helping block)\n"
      ],
      "metadata": {
        "id": "mimTmfqNArdP"
      }
    },
    {
      "cell_type": "code",
      "source": [
        "def conv_block(in_chanels, out_chanels, pool = False):\n",
        "  layers = [nn.Conv2d(in_chanels, out_chanels,kernel_size=3,padding = 1),\n",
        "            nn.BatchNorm2d(out_chanels), \n",
        "            nn.ReLU(inplace=True)]\n",
        "  if pool: layers.append(nn.MaxPool2d(2))\n",
        "  return nn.Sequential(*layers)"
      ],
      "metadata": {
        "id": "C8nwH0mj09OH"
      },
      "execution_count": 24,
      "outputs": []
    },
    {
      "cell_type": "markdown",
      "source": [
        "Model ResNet9"
      ],
      "metadata": {
        "id": "ZN8YG-CUA4qJ"
      }
    },
    {
      "cell_type": "code",
      "source": [
        "class ResNet9(ImageClassificationBase):\n",
        "    def __init__(self, in_channels, num_classes):\n",
        "        super().__init__()\n",
        "        \n",
        "        self.conv1 = conv_block(in_channels, 64)\n",
        "        self.conv2 = conv_block(64, 128, pool=True)\n",
        "        self.res1 = nn.Sequential(conv_block(128, 128), conv_block(128, 128))\n",
        "        \n",
        "        self.conv3 = conv_block(128, 256, pool=True)\n",
        "        self.conv4 = conv_block(256, 512, pool=True)\n",
        "        self.res2 = nn.Sequential(conv_block(512, 512), conv_block(512, 512))\n",
        "        \n",
        "        self.classifier = nn.Sequential(nn.MaxPool2d(4), \n",
        "                                        nn.Flatten(), \n",
        "                                        nn.Dropout(0.2),\n",
        "                                        nn.Linear(512, num_classes))\n",
        "        \n",
        "    def forward(self, xb):\n",
        "        out = self.conv1(xb)\n",
        "        out = self.conv2(out)\n",
        "        out = self.res1(out) + out\n",
        "        out = self.conv3(out)\n",
        "        out = self.conv4(out)\n",
        "        out = self.res2(out) + out\n",
        "        out = self.classifier(out)\n",
        "        return out\n",
        "\n",
        "        \n",
        "model = to_device(ResNet9(3, 10), device)"
      ],
      "metadata": {
        "id": "O1RhDufb2qbl"
      },
      "execution_count": 25,
      "outputs": []
    },
    {
      "cell_type": "markdown",
      "source": [
        "### **Training func**"
      ],
      "metadata": {
        "id": "KHhj08JoC_2R"
      }
    },
    {
      "cell_type": "code",
      "source": [
        "def evaluate(model, valid_dataset):\n",
        "  model.eval()\n",
        "  outputs = [model.validation_step(batch) for batch in valid_dataset]\n",
        "  return model.validation_epoch_end(outputs)\n",
        "\n",
        "def fit(epoch_num, lr, model,train_dataset, valid_dataset, grad_clip ,weight_decay, opt):\n",
        "  # torch.cuda.empty_cache()\n",
        "  opt = opt(model.parameters(), lr, weight_decay=weight_decay)\n",
        "  history = []\n",
        "  for epoch in range(epoch_num):\n",
        "    model.train()\n",
        "    train_losses = []\n",
        "\n",
        "    for batch in train_dataset:\n",
        "\n",
        "      loss = model.training_step(batch) \n",
        "      train_losses.append(loss.detach())\n",
        "      loss.backward()\n",
        "      nn.utils.clip_grad_value_(model.parameters(), grad_clip)\n",
        "      opt.step()\n",
        "      opt.zero_grad()\n",
        "\n",
        "    result = evaluate(model, valid_dataset)\n",
        "    result['train_loss'] = torch.tensor(train_losses).mean().item()\n",
        "    model.epoch_end(epoch, result)\n",
        "    history.append(result)\n",
        "\n",
        "  return history\n"
      ],
      "metadata": {
        "id": "Aclz61vLC-2i"
      },
      "execution_count": 30,
      "outputs": []
    },
    {
      "cell_type": "markdown",
      "source": [
        "### Train and Test"
      ],
      "metadata": {
        "id": "pyaEPad8XbAA"
      }
    },
    {
      "cell_type": "code",
      "source": [
        "history = []\n",
        "\n",
        "grad_clip = 0.1\n",
        "weight_decay = 1e-4\n",
        "opt_func = torch.optim.Adam"
      ],
      "metadata": {
        "id": "g-cqYoYmXOAM"
      },
      "execution_count": 27,
      "outputs": []
    },
    {
      "cell_type": "code",
      "source": [
        "lr = 0.004\n",
        "epochs = 13\n",
        "history += fit(epochs, lr, model, train_dataset, valid_dataset, grad_clip, weight_decay, opt_func)"
      ],
      "metadata": {
        "id": "C168wJ5xiwu7"
      },
      "execution_count": null,
      "outputs": []
    },
    {
      "cell_type": "code",
      "source": [
        "def plot_accuracies(history):\n",
        "    accuracies = [x['val_acc'] for x in history]\n",
        "    plt.plot(accuracies, '-x')\n",
        "    plt.xlabel('epoch')\n",
        "    plt.ylabel('accuracy')\n",
        "    plt.title('Accuracy vs. No. of epochs')\n",
        "    \n",
        "plot_accuracies(history)"
      ],
      "metadata": {
        "id": "LA6CBpm3zrEq"
      },
      "execution_count": null,
      "outputs": []
    },
    {
      "cell_type": "code",
      "source": [
        "def plot_losses(history):\n",
        "    train_losses = [x.get('train_loss') for x in history]\n",
        "    val_losses = [x['val_loss'] for x in history]\n",
        "    plt.plot(train_losses, '-bx')\n",
        "    plt.plot(val_losses, '-rx')\n",
        "    plt.xlabel('epoch')\n",
        "    plt.ylabel('loss')\n",
        "    plt.legend(['Training', 'Validation'])\n",
        "    plt.title('Loss vs. No. of epochs');\n",
        "\n",
        "plot_losses(history)"
      ],
      "metadata": {
        "id": "e4Gw8NcOz-tv"
      },
      "execution_count": null,
      "outputs": []
    },
    {
      "cell_type": "code",
      "source": [
        "test_dataset= DeviceDataLoader(test_dataset, device)\n",
        "outputs = [model.validation_step(batch) for batch in valid_dataset]\n",
        "test_loss = torch.tensor([x['val_loss'] for x in outputs]).mean()\n",
        "test_acc =  torch.tensor([x['val_acc'] for x in outputs]).mean()\n",
        "print(\"Test: test_loss: {:.4f}, test_acc: {:.4f}\".format(\n",
        "            test_loss,test_acc))\n",
        "\n"
      ],
      "metadata": {
        "id": "6ZJgjr3Cs-hW"
      },
      "execution_count": null,
      "outputs": []
    }
  ]
}